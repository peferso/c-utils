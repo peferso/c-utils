{
 "cells": [
  {
   "cell_type": "code",
   "execution_count": 1,
   "metadata": {},
   "outputs": [],
   "source": [
    "import pandas as pd\n",
    "import random"
   ]
  },
  {
   "cell_type": "code",
   "execution_count": 2,
   "metadata": {},
   "outputs": [],
   "source": [
    "import ctypes\n",
    "from ctypes import POINTER\n",
    "cisin = ctypes.CDLL(\"./libcisin.so\")\n",
    "cisin.c_isin.argtypes = [POINTER(ctypes.c_char), POINTER(ctypes.c_char_p)]\n"
   ]
  },
  {
   "cell_type": "code",
   "execution_count": 3,
   "metadata": {},
   "outputs": [],
   "source": [
    "def call_c_isn(_string: str, _list: list):\n",
    "    input_phrase = _string.encode('utf-8')\n",
    "    list_of_phrases = (ctypes.c_char_p * len(_list))()\n",
    "    list_of_phrases[:] = [i.encode('utf-8') for i in _list]\n",
    "    return cisin.c_isin(input_phrase, list_of_phrases, len(_list))"
   ]
  },
  {
   "cell_type": "code",
   "execution_count": 4,
   "metadata": {},
   "outputs": [
    {
     "data": {
      "text/plain": [
       "1"
      ]
     },
     "execution_count": 4,
     "metadata": {},
     "output_type": "execute_result"
    }
   ],
   "source": [
    "call_c_isn('this string', ['this string', 'another string'])"
   ]
  },
  {
   "cell_type": "code",
   "execution_count": 5,
   "metadata": {},
   "outputs": [],
   "source": [
    "test_df = pd.DataFrame(\n",
    "    {\n",
    "        'description': [f'description {i}' for i in range(10)] + [f'description {i}' for i in range(10)]\n",
    "    }\n",
    ")"
   ]
  },
  {
   "cell_type": "code",
   "execution_count": 6,
   "metadata": {},
   "outputs": [],
   "source": [
    "set_of_descriptions = [\n",
    "    'description 0',\n",
    "    'description 1',\n",
    "    'description 2',\n",
    "    'description 6',\n",
    "    'description 9'\n",
    "]"
   ]
  },
  {
   "cell_type": "code",
   "execution_count": 26,
   "metadata": {},
   "outputs": [],
   "source": [
    "import timeit\n",
    "import numpy as np\n",
    "\n",
    "setup_1 = \"\"\"\n",
    "import pandas as pd\n",
    "test_df = pd.DataFrame(\n",
    "        {\n",
    "            'description': [f'description {i}' for i in range(100)] + [f'description {i}' for i in range(100)]\n",
    "        }\n",
    ")\n",
    "\n",
    "set_of_descriptions = [\n",
    "    'description 0',\n",
    "    'description 1',\n",
    "    'description 2',\n",
    "    'description 6',\n",
    "    'description 99'\n",
    "]\n",
    "\"\"\"\n",
    "setup_2 = \"\"\"\n",
    "import pandas as pd\n",
    "import ctypes\n",
    "import numpy as np\n",
    "from ctypes import POINTER\n",
    "cisin = ctypes.CDLL(\"./libcisin.so\")\n",
    "cisin.c_isin.argtypes = [POINTER(ctypes.c_char), POINTER(POINTER(ctypes.c_char))]\n",
    "\n",
    "\n",
    "test_df = pd.DataFrame(\n",
    "        {\n",
    "            'description': [f'description {i}' for i in range(100)] + [f'description {i}' for i in range(100)]\n",
    "        }\n",
    ")\n",
    "test_df['description_encoded'] = test_df['description'].apply(lambda x: x.encode('utf-8'))\n",
    "\n",
    "set_of_descriptions = [\n",
    "    'description 0',\n",
    "    'description 1',\n",
    "    'description 2',\n",
    "    'description 6',\n",
    "    'description 99'\n",
    "]\n",
    "set_of_descriptions_encoded = [i.encode('utf-8') for i in set_of_descriptions]\n",
    "\n",
    "def call_c_isn(_string: str, _list: list):\n",
    "    input_phrase = _string\n",
    "    list_of_phrases = (ctypes.c_char_p * len(_list))()\n",
    "    list_of_phrases[:] = _list\n",
    "    return cisin.c_isin(input_phrase, list_of_phrases, len(_list))\n",
    "\n",
    "\"\"\"\n",
    "\n",
    "test_df = pd.DataFrame(\n",
    "        {\n",
    "            'description': [f'description {i}' for i in range(100)] + [f'description {i}' for i in range(100)]\n",
    "        }\n",
    ")\n",
    "test_df['description_encoded'] = test_df['description'].apply(lambda x: x.encode('utf-8'))\n",
    "\n",
    "set_of_descriptions = [\n",
    "    'description 0',\n",
    "    'description 1',\n",
    "    'description 2',\n",
    "    'description 6',\n",
    "    'description 99'\n",
    "]\n",
    "set_of_descriptions_encoded = [i.encode('utf-8') for i in set_of_descriptions]\n",
    "\n",
    "def call_c_isn(_string: str, _list: list):\n",
    "    input_phrase = _string\n",
    "    list_of_phrases = (ctypes.c_char_p * len(_list))()\n",
    "    list_of_phrases[:] = _list\n",
    "    return cisin.c_isin(input_phrase, list_of_phrases, len(_list))\n",
    "\n",
    "def f_1(\n",
    "    test_df=test_df,\n",
    "    set_of_descriptions = set_of_descriptions\n",
    "):\n",
    "    test_df['filtered_description'] = 0\n",
    "    test_df.loc[\n",
    "        test_df['description'].isin(set_of_descriptions),\n",
    "        'filtered_description'\n",
    "    ] = 1\n",
    "    test_df['filtered_description'] = test_df['filtered_description'].astype(bool)\n",
    "    return test_df\n",
    "\n",
    "def f_2(\n",
    "    test_df=test_df,\n",
    "    set_of_descriptions: list = set_of_descriptions_encoded\n",
    "):\n",
    "    desc = test_df['description_encoded'].values\n",
    "    test_df['filtered_description'] = [call_c_isn(i, set_of_descriptions) for i in desc]\n",
    "    test_df['filtered_description'] = test_df['filtered_description'].astype(bool)\n",
    "    return test_df\n",
    "\n",
    "\n"
   ]
  },
  {
   "cell_type": "code",
   "execution_count": 27,
   "metadata": {},
   "outputs": [
    {
     "data": {
      "text/html": [
       "<div>\n",
       "<style scoped>\n",
       "    .dataframe tbody tr th:only-of-type {\n",
       "        vertical-align: middle;\n",
       "    }\n",
       "\n",
       "    .dataframe tbody tr th {\n",
       "        vertical-align: top;\n",
       "    }\n",
       "\n",
       "    .dataframe thead th {\n",
       "        text-align: right;\n",
       "    }\n",
       "</style>\n",
       "<table border=\"1\" class=\"dataframe\">\n",
       "  <thead>\n",
       "    <tr style=\"text-align: right;\">\n",
       "      <th></th>\n",
       "      <th>description</th>\n",
       "      <th>description_encoded</th>\n",
       "      <th>filtered_description</th>\n",
       "    </tr>\n",
       "  </thead>\n",
       "  <tbody>\n",
       "    <tr>\n",
       "      <th>0</th>\n",
       "      <td>description 0</td>\n",
       "      <td>b'description 0'</td>\n",
       "      <td>True</td>\n",
       "    </tr>\n",
       "    <tr>\n",
       "      <th>1</th>\n",
       "      <td>description 1</td>\n",
       "      <td>b'description 1'</td>\n",
       "      <td>True</td>\n",
       "    </tr>\n",
       "    <tr>\n",
       "      <th>2</th>\n",
       "      <td>description 2</td>\n",
       "      <td>b'description 2'</td>\n",
       "      <td>True</td>\n",
       "    </tr>\n",
       "    <tr>\n",
       "      <th>3</th>\n",
       "      <td>description 3</td>\n",
       "      <td>b'description 3'</td>\n",
       "      <td>False</td>\n",
       "    </tr>\n",
       "    <tr>\n",
       "      <th>4</th>\n",
       "      <td>description 4</td>\n",
       "      <td>b'description 4'</td>\n",
       "      <td>False</td>\n",
       "    </tr>\n",
       "    <tr>\n",
       "      <th>...</th>\n",
       "      <td>...</td>\n",
       "      <td>...</td>\n",
       "      <td>...</td>\n",
       "    </tr>\n",
       "    <tr>\n",
       "      <th>195</th>\n",
       "      <td>description 95</td>\n",
       "      <td>b'description 95'</td>\n",
       "      <td>False</td>\n",
       "    </tr>\n",
       "    <tr>\n",
       "      <th>196</th>\n",
       "      <td>description 96</td>\n",
       "      <td>b'description 96'</td>\n",
       "      <td>False</td>\n",
       "    </tr>\n",
       "    <tr>\n",
       "      <th>197</th>\n",
       "      <td>description 97</td>\n",
       "      <td>b'description 97'</td>\n",
       "      <td>False</td>\n",
       "    </tr>\n",
       "    <tr>\n",
       "      <th>198</th>\n",
       "      <td>description 98</td>\n",
       "      <td>b'description 98'</td>\n",
       "      <td>False</td>\n",
       "    </tr>\n",
       "    <tr>\n",
       "      <th>199</th>\n",
       "      <td>description 99</td>\n",
       "      <td>b'description 99'</td>\n",
       "      <td>True</td>\n",
       "    </tr>\n",
       "  </tbody>\n",
       "</table>\n",
       "<p>200 rows × 3 columns</p>\n",
       "</div>"
      ],
      "text/plain": [
       "        description description_encoded  filtered_description\n",
       "0     description 0    b'description 0'                  True\n",
       "1     description 1    b'description 1'                  True\n",
       "2     description 2    b'description 2'                  True\n",
       "3     description 3    b'description 3'                 False\n",
       "4     description 4    b'description 4'                 False\n",
       "..              ...                 ...                   ...\n",
       "195  description 95   b'description 95'                 False\n",
       "196  description 96   b'description 96'                 False\n",
       "197  description 97   b'description 97'                 False\n",
       "198  description 98   b'description 98'                 False\n",
       "199  description 99   b'description 99'                  True\n",
       "\n",
       "[200 rows x 3 columns]"
      ]
     },
     "execution_count": 27,
     "metadata": {},
     "output_type": "execute_result"
    }
   ],
   "source": [
    "f_1()"
   ]
  },
  {
   "cell_type": "code",
   "execution_count": 28,
   "metadata": {},
   "outputs": [
    {
     "data": {
      "text/html": [
       "<div>\n",
       "<style scoped>\n",
       "    .dataframe tbody tr th:only-of-type {\n",
       "        vertical-align: middle;\n",
       "    }\n",
       "\n",
       "    .dataframe tbody tr th {\n",
       "        vertical-align: top;\n",
       "    }\n",
       "\n",
       "    .dataframe thead th {\n",
       "        text-align: right;\n",
       "    }\n",
       "</style>\n",
       "<table border=\"1\" class=\"dataframe\">\n",
       "  <thead>\n",
       "    <tr style=\"text-align: right;\">\n",
       "      <th></th>\n",
       "      <th>description</th>\n",
       "      <th>description_encoded</th>\n",
       "      <th>filtered_description</th>\n",
       "    </tr>\n",
       "  </thead>\n",
       "  <tbody>\n",
       "    <tr>\n",
       "      <th>0</th>\n",
       "      <td>description 0</td>\n",
       "      <td>b'description 0'</td>\n",
       "      <td>True</td>\n",
       "    </tr>\n",
       "    <tr>\n",
       "      <th>1</th>\n",
       "      <td>description 1</td>\n",
       "      <td>b'description 1'</td>\n",
       "      <td>True</td>\n",
       "    </tr>\n",
       "    <tr>\n",
       "      <th>2</th>\n",
       "      <td>description 2</td>\n",
       "      <td>b'description 2'</td>\n",
       "      <td>True</td>\n",
       "    </tr>\n",
       "    <tr>\n",
       "      <th>3</th>\n",
       "      <td>description 3</td>\n",
       "      <td>b'description 3'</td>\n",
       "      <td>False</td>\n",
       "    </tr>\n",
       "    <tr>\n",
       "      <th>4</th>\n",
       "      <td>description 4</td>\n",
       "      <td>b'description 4'</td>\n",
       "      <td>False</td>\n",
       "    </tr>\n",
       "    <tr>\n",
       "      <th>...</th>\n",
       "      <td>...</td>\n",
       "      <td>...</td>\n",
       "      <td>...</td>\n",
       "    </tr>\n",
       "    <tr>\n",
       "      <th>195</th>\n",
       "      <td>description 95</td>\n",
       "      <td>b'description 95'</td>\n",
       "      <td>False</td>\n",
       "    </tr>\n",
       "    <tr>\n",
       "      <th>196</th>\n",
       "      <td>description 96</td>\n",
       "      <td>b'description 96'</td>\n",
       "      <td>False</td>\n",
       "    </tr>\n",
       "    <tr>\n",
       "      <th>197</th>\n",
       "      <td>description 97</td>\n",
       "      <td>b'description 97'</td>\n",
       "      <td>False</td>\n",
       "    </tr>\n",
       "    <tr>\n",
       "      <th>198</th>\n",
       "      <td>description 98</td>\n",
       "      <td>b'description 98'</td>\n",
       "      <td>False</td>\n",
       "    </tr>\n",
       "    <tr>\n",
       "      <th>199</th>\n",
       "      <td>description 99</td>\n",
       "      <td>b'description 99'</td>\n",
       "      <td>True</td>\n",
       "    </tr>\n",
       "  </tbody>\n",
       "</table>\n",
       "<p>200 rows × 3 columns</p>\n",
       "</div>"
      ],
      "text/plain": [
       "        description description_encoded  filtered_description\n",
       "0     description 0    b'description 0'                  True\n",
       "1     description 1    b'description 1'                  True\n",
       "2     description 2    b'description 2'                  True\n",
       "3     description 3    b'description 3'                 False\n",
       "4     description 4    b'description 4'                 False\n",
       "..              ...                 ...                   ...\n",
       "195  description 95   b'description 95'                 False\n",
       "196  description 96   b'description 96'                 False\n",
       "197  description 97   b'description 97'                 False\n",
       "198  description 98   b'description 98'                 False\n",
       "199  description 99   b'description 99'                  True\n",
       "\n",
       "[200 rows x 3 columns]"
      ]
     },
     "execution_count": 28,
     "metadata": {},
     "output_type": "execute_result"
    }
   ],
   "source": [
    "f_2()"
   ]
  },
  {
   "cell_type": "code",
   "execution_count": 29,
   "metadata": {},
   "outputs": [
    {
     "data": {
      "text/plain": [
       "11.533101502998761"
      ]
     },
     "execution_count": 29,
     "metadata": {},
     "output_type": "execute_result"
    }
   ],
   "source": [
    "timeit.timeit(f_1, setup=setup_1, number=10000)\n"
   ]
  },
  {
   "cell_type": "code",
   "execution_count": 30,
   "metadata": {},
   "outputs": [
    {
     "data": {
      "text/plain": [
       "24.358356540000386"
      ]
     },
     "execution_count": 30,
     "metadata": {},
     "output_type": "execute_result"
    }
   ],
   "source": [
    "timeit.timeit(f_2, setup=setup_2, number=10000)\n"
   ]
  },
  {
   "cell_type": "code",
   "execution_count": null,
   "metadata": {},
   "outputs": [],
   "source": []
  }
 ],
 "metadata": {
  "kernelspec": {
   "display_name": "ds-ml-python-bootcamp",
   "language": "python",
   "name": "ds-ml-python-bootcamp"
  },
  "language_info": {
   "codemirror_mode": {
    "name": "ipython",
    "version": 3
   },
   "file_extension": ".py",
   "mimetype": "text/x-python",
   "name": "python",
   "nbconvert_exporter": "python",
   "pygments_lexer": "ipython3",
   "version": "3.8.10"
  },
  "orig_nbformat": 4,
  "vscode": {
   "interpreter": {
    "hash": "916dbcbb3f70747c44a77c7bcd40155683ae19c65e1c03b4aa3499c5328201f1"
   }
  }
 },
 "nbformat": 4,
 "nbformat_minor": 2
}
